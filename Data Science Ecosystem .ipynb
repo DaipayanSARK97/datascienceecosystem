{
 "cells": [
  {
   "cell_type": "markdown",
   "id": "54852c92-cd9c-4156-ba27-f89497722e12",
   "metadata": {
    "tags": []
   },
   "source": [
    "# Data Science Tools and Ecosystem"
   ]
  },
  {
   "cell_type": "markdown",
   "id": "0eebb2d3-bf28-490d-9dc2-bbb8ab5c6cce",
   "metadata": {},
   "source": [
    "**OBJECTIVES :**\n",
    "* LANGUAGES\n",
    "* DATA SCIENCE TOOLS\n",
    "* DATA SCIENCE ECOSYSTEM"
   ]
  },
  {
   "cell_type": "markdown",
   "id": "84624030-c971-4a7b-b94a-01de7b24b4b2",
   "metadata": {},
   "source": [
    "In this notebook , Data Science Tools and Ecosystem are summarized "
   ]
  },
  {
   "cell_type": "markdown",
   "id": "5d55c260-c2d5-4731-bbc8-905dae02f5aa",
   "metadata": {
    "tags": []
   },
   "source": [
    " Some of the popular languages that data scientists use are\n",
    "1. python\n",
    "2. sql\n",
    "3. r"
   ]
  },
  {
   "cell_type": "markdown",
   "id": "22eb6697-16d1-4693-98a5-a11cea2f5cf0",
   "metadata": {},
   "source": [
    "Some of the commonly used libraries used by data scientists include\n",
    "1. TensorFlow\n",
    "2. NumPy\n",
    "3. Pandas"
   ]
  },
  {
   "cell_type": "markdown",
   "id": "81a7a4cd-2198-480c-864d-a31cc07ad5d7",
   "metadata": {
    "tags": []
   },
   "source": [
    "# table"
   ]
  },
  {
   "cell_type": "markdown",
   "id": "81df1dcc-b035-4b51-aa4b-fc247f48c204",
   "metadata": {
    "tags": []
   },
   "source": [
    "|Data Science Tools|\n",
    "|------------------|\n",
    "|spyder|\n",
    "|pycharm|\n",
    "|vs code|"
   ]
  },
  {
   "cell_type": "markdown",
   "id": "9e3b35c8-1bf1-4b60-82bf-8ce285ccec62",
   "metadata": {},
   "source": [
    "### H3 :\"Below are the few examples evaluating arithmetic expressions in python\""
   ]
  },
  {
   "cell_type": "code",
   "execution_count": 17,
   "id": "6b7a9616-1751-48c6-98bc-e2ce3372a6a7",
   "metadata": {
    "tags": []
   },
   "outputs": [
    {
     "data": {
      "text/plain": [
       "17"
      ]
     },
     "execution_count": 17,
     "metadata": {},
     "output_type": "execute_result"
    }
   ],
   "source": [
    " # evaluate \n",
    " (3*4)+5\n"
   ]
  },
  {
   "cell_type": "code",
   "execution_count": 20,
   "id": "173a5f42-f971-4041-a1ab-3c6c79be57db",
   "metadata": {
    "tags": []
   },
   "outputs": [
    {
     "data": {
      "text/plain": [
       "'this is a simple expression of addition and multiplication'"
      ]
     },
     "execution_count": 20,
     "metadata": {},
     "output_type": "execute_result"
    }
   ],
   "source": [
    "#comment\n",
    "\"this is a simple expression of addition and multiplication\""
   ]
  },
  {
   "cell_type": "markdown",
   "id": "418e7839-da9e-4a23-8ff8-35d7ec93c936",
   "metadata": {
    "tags": []
   },
   "source": [
    "this will convert 200 minutes to hours by dividing by 60\n"
   ]
  },
  {
   "cell_type": "code",
   "execution_count": 6,
   "id": "4a4fe371-b745-4a31-9796-1f6887c4d54f",
   "metadata": {
    "tags": []
   },
   "outputs": [
    {
     "data": {
      "text/plain": [
       "3.3333333333333335"
      ]
     },
     "execution_count": 6,
     "metadata": {},
     "output_type": "execute_result"
    }
   ],
   "source": [
    "#evaluate \n",
    "200/60"
   ]
  },
  {
   "cell_type": "markdown",
   "id": "8a2581a6-036e-4332-9135-73546ac75436",
   "metadata": {},
   "source": [
    "## AUTHOR\n",
    "DAIPAYAN SARKAR"
   ]
  },
  {
   "cell_type": "code",
   "execution_count": null,
   "id": "d1f2c319-f8b4-49b7-aa9f-8d0f68796e7d",
   "metadata": {},
   "outputs": [],
   "source": []
  }
 ],
 "metadata": {
  "kernelspec": {
   "display_name": "Python",
   "language": "python",
   "name": "conda-env-python-py"
  },
  "language_info": {
   "codemirror_mode": {
    "name": "ipython",
    "version": 3
   },
   "file_extension": ".py",
   "mimetype": "text/x-python",
   "name": "python",
   "nbconvert_exporter": "python",
   "pygments_lexer": "ipython3",
   "version": "3.7.12"
  }
 },
 "nbformat": 4,
 "nbformat_minor": 5
}
